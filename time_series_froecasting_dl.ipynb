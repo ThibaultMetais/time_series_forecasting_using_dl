{
  "nbformat": 4,
  "nbformat_minor": 0,
  "metadata": {
    "colab": {
      "name": "time_series_froecasting_dl.ipynb",
      "provenance": [],
      "collapsed_sections": []
    },
    "kernelspec": {
      "name": "python3",
      "display_name": "Python 3"
    },
    "accelerator": "GPU"
  },
  "cells": [
    {
      "cell_type": "markdown",
      "metadata": {
        "id": "UvIdJa2uXp2j",
        "colab_type": "text"
      },
      "source": [
        "**Libraries and Google Drive**"
      ]
    },
    {
      "cell_type": "code",
      "metadata": {
        "id": "vl9-YlwHUrAA",
        "colab_type": "code",
        "colab": {}
      },
      "source": [
        "# Dataset : temperatures in Rio, Brazil\n",
        "# https://www.kaggle.com/volpatto/temperature-timeseries-for-some-brazilian-cities?select=station_rio.csv"
      ],
      "execution_count": 0,
      "outputs": []
    },
    {
      "cell_type": "code",
      "metadata": {
        "id": "U-Nk46XaXN46",
        "colab_type": "code",
        "outputId": "3be2bfed-fc66-4b14-ed79-a7fa9d1a8e25",
        "colab": {
          "base_uri": "https://localhost:8080/",
          "height": 34
        }
      },
      "source": [
        "# We mount Google drive\n",
        "from google.colab import drive\n",
        "drive.mount('/content/drive')"
      ],
      "execution_count": 104,
      "outputs": [
        {
          "output_type": "stream",
          "text": [
            "Mounted at /content/drive\n"
          ],
          "name": "stdout"
        }
      ]
    },
    {
      "cell_type": "code",
      "metadata": {
        "id": "iz1J_CJ-YLNw",
        "colab_type": "code",
        "colab": {}
      },
      "source": [
        "# We import some dl libraries\n",
        "import pandas as pd\n",
        "import tensorflow as tf\n",
        "from keras import optimizers\n",
        "from keras.utils import plot_model\n",
        "from keras.models import Sequential, Model\n",
        "from keras.layers.convolutional import Conv1D, MaxPooling1D\n",
        "from keras.layers import Dense, LSTM, RepeatVector, TimeDistributed, Flatten"
      ],
      "execution_count": 0,
      "outputs": []
    },
    {
      "cell_type": "code",
      "metadata": {
        "id": "Sp25RazLXKyF",
        "colab_type": "code",
        "outputId": "2c292171-6533-4b4e-f863-b77d1beb9d48",
        "colab": {
          "base_uri": "https://localhost:8080/",
          "height": 204
        }
      },
      "source": [
        "# We import the dataset from Google Drive\n",
        "initial_data = pd.read_csv('/content/drive/My Drive/rio_time_series/station_rio.csv')\n",
        "initial_data.head()"
      ],
      "execution_count": 210,
      "outputs": [
        {
          "output_type": "execute_result",
          "data": {
            "text/html": [
              "<div>\n",
              "<style scoped>\n",
              "    .dataframe tbody tr th:only-of-type {\n",
              "        vertical-align: middle;\n",
              "    }\n",
              "\n",
              "    .dataframe tbody tr th {\n",
              "        vertical-align: top;\n",
              "    }\n",
              "\n",
              "    .dataframe thead th {\n",
              "        text-align: right;\n",
              "    }\n",
              "</style>\n",
              "<table border=\"1\" class=\"dataframe\">\n",
              "  <thead>\n",
              "    <tr style=\"text-align: right;\">\n",
              "      <th></th>\n",
              "      <th>YEAR</th>\n",
              "      <th>JAN</th>\n",
              "      <th>FEB</th>\n",
              "      <th>MAR</th>\n",
              "      <th>APR</th>\n",
              "      <th>MAY</th>\n",
              "      <th>JUN</th>\n",
              "      <th>JUL</th>\n",
              "      <th>AUG</th>\n",
              "      <th>SEP</th>\n",
              "      <th>OCT</th>\n",
              "      <th>NOV</th>\n",
              "      <th>DEC</th>\n",
              "      <th>D-J-F</th>\n",
              "      <th>M-A-M</th>\n",
              "      <th>J-J-A</th>\n",
              "      <th>S-O-N</th>\n",
              "      <th>metANN</th>\n",
              "    </tr>\n",
              "  </thead>\n",
              "  <tbody>\n",
              "    <tr>\n",
              "      <th>0</th>\n",
              "      <td>1973</td>\n",
              "      <td>27.73</td>\n",
              "      <td>27.97</td>\n",
              "      <td>25.70</td>\n",
              "      <td>26.49</td>\n",
              "      <td>22.42</td>\n",
              "      <td>22.76</td>\n",
              "      <td>22.14</td>\n",
              "      <td>21.03</td>\n",
              "      <td>21.46</td>\n",
              "      <td>22.46</td>\n",
              "      <td>23.06</td>\n",
              "      <td>25.85</td>\n",
              "      <td>27.45</td>\n",
              "      <td>24.87</td>\n",
              "      <td>21.98</td>\n",
              "      <td>22.33</td>\n",
              "      <td>24.16</td>\n",
              "    </tr>\n",
              "    <tr>\n",
              "      <th>1</th>\n",
              "      <td>1974</td>\n",
              "      <td>26.68</td>\n",
              "      <td>27.16</td>\n",
              "      <td>26.56</td>\n",
              "      <td>23.94</td>\n",
              "      <td>22.76</td>\n",
              "      <td>20.70</td>\n",
              "      <td>21.20</td>\n",
              "      <td>21.81</td>\n",
              "      <td>22.91</td>\n",
              "      <td>22.80</td>\n",
              "      <td>24.51</td>\n",
              "      <td>24.54</td>\n",
              "      <td>26.56</td>\n",
              "      <td>24.42</td>\n",
              "      <td>21.24</td>\n",
              "      <td>23.41</td>\n",
              "      <td>23.91</td>\n",
              "    </tr>\n",
              "    <tr>\n",
              "      <th>2</th>\n",
              "      <td>1975</td>\n",
              "      <td>25.27</td>\n",
              "      <td>26.92</td>\n",
              "      <td>26.43</td>\n",
              "      <td>22.82</td>\n",
              "      <td>21.37</td>\n",
              "      <td>20.50</td>\n",
              "      <td>19.68</td>\n",
              "      <td>22.98</td>\n",
              "      <td>22.40</td>\n",
              "      <td>22.65</td>\n",
              "      <td>24.11</td>\n",
              "      <td>26.53</td>\n",
              "      <td>25.58</td>\n",
              "      <td>23.54</td>\n",
              "      <td>21.05</td>\n",
              "      <td>23.05</td>\n",
              "      <td>23.31</td>\n",
              "    </tr>\n",
              "    <tr>\n",
              "      <th>3</th>\n",
              "      <td>1976</td>\n",
              "      <td>27.48</td>\n",
              "      <td>26.20</td>\n",
              "      <td>25.55</td>\n",
              "      <td>24.99</td>\n",
              "      <td>22.01</td>\n",
              "      <td>21.18</td>\n",
              "      <td>20.14</td>\n",
              "      <td>21.15</td>\n",
              "      <td>21.27</td>\n",
              "      <td>22.06</td>\n",
              "      <td>24.40</td>\n",
              "      <td>25.56</td>\n",
              "      <td>26.74</td>\n",
              "      <td>24.18</td>\n",
              "      <td>20.82</td>\n",
              "      <td>22.58</td>\n",
              "      <td>23.58</td>\n",
              "    </tr>\n",
              "    <tr>\n",
              "      <th>4</th>\n",
              "      <td>1977</td>\n",
              "      <td>27.13</td>\n",
              "      <td>28.51</td>\n",
              "      <td>26.88</td>\n",
              "      <td>24.22</td>\n",
              "      <td>22.35</td>\n",
              "      <td>22.13</td>\n",
              "      <td>23.07</td>\n",
              "      <td>22.29</td>\n",
              "      <td>22.44</td>\n",
              "      <td>23.92</td>\n",
              "      <td>24.48</td>\n",
              "      <td>24.84</td>\n",
              "      <td>27.07</td>\n",
              "      <td>24.48</td>\n",
              "      <td>22.50</td>\n",
              "      <td>23.61</td>\n",
              "      <td>24.42</td>\n",
              "    </tr>\n",
              "  </tbody>\n",
              "</table>\n",
              "</div>"
            ],
            "text/plain": [
              "   YEAR    JAN    FEB    MAR    APR  ...  D-J-F  M-A-M  J-J-A  S-O-N  metANN\n",
              "0  1973  27.73  27.97  25.70  26.49  ...  27.45  24.87  21.98  22.33   24.16\n",
              "1  1974  26.68  27.16  26.56  23.94  ...  26.56  24.42  21.24  23.41   23.91\n",
              "2  1975  25.27  26.92  26.43  22.82  ...  25.58  23.54  21.05  23.05   23.31\n",
              "3  1976  27.48  26.20  25.55  24.99  ...  26.74  24.18  20.82  22.58   23.58\n",
              "4  1977  27.13  28.51  26.88  24.22  ...  27.07  24.48  22.50  23.61   24.42\n",
              "\n",
              "[5 rows x 18 columns]"
            ]
          },
          "metadata": {
            "tags": []
          },
          "execution_count": 210
        }
      ]
    },
    {
      "cell_type": "markdown",
      "metadata": {
        "id": "OMeOCJlvH_DB",
        "colab_type": "text"
      },
      "source": [
        "**Preparation of the dataset**"
      ]
    },
    {
      "cell_type": "code",
      "metadata": {
        "id": "4bsEg0RTYq0s",
        "colab_type": "code",
        "outputId": "f9cf7154-220c-4e0d-8707-2e891b0678dc",
        "colab": {
          "base_uri": "https://localhost:8080/",
          "height": 204
        }
      },
      "source": [
        "# We drop the columns with mean values\n",
        "initial_data = initial_data.drop(['D-J-F','M-A-M', 'J-J-A', 'S-O-N', 'metANN'], axis = 1)\n",
        "initial_data.head()"
      ],
      "execution_count": 211,
      "outputs": [
        {
          "output_type": "execute_result",
          "data": {
            "text/html": [
              "<div>\n",
              "<style scoped>\n",
              "    .dataframe tbody tr th:only-of-type {\n",
              "        vertical-align: middle;\n",
              "    }\n",
              "\n",
              "    .dataframe tbody tr th {\n",
              "        vertical-align: top;\n",
              "    }\n",
              "\n",
              "    .dataframe thead th {\n",
              "        text-align: right;\n",
              "    }\n",
              "</style>\n",
              "<table border=\"1\" class=\"dataframe\">\n",
              "  <thead>\n",
              "    <tr style=\"text-align: right;\">\n",
              "      <th></th>\n",
              "      <th>YEAR</th>\n",
              "      <th>JAN</th>\n",
              "      <th>FEB</th>\n",
              "      <th>MAR</th>\n",
              "      <th>APR</th>\n",
              "      <th>MAY</th>\n",
              "      <th>JUN</th>\n",
              "      <th>JUL</th>\n",
              "      <th>AUG</th>\n",
              "      <th>SEP</th>\n",
              "      <th>OCT</th>\n",
              "      <th>NOV</th>\n",
              "      <th>DEC</th>\n",
              "    </tr>\n",
              "  </thead>\n",
              "  <tbody>\n",
              "    <tr>\n",
              "      <th>0</th>\n",
              "      <td>1973</td>\n",
              "      <td>27.73</td>\n",
              "      <td>27.97</td>\n",
              "      <td>25.70</td>\n",
              "      <td>26.49</td>\n",
              "      <td>22.42</td>\n",
              "      <td>22.76</td>\n",
              "      <td>22.14</td>\n",
              "      <td>21.03</td>\n",
              "      <td>21.46</td>\n",
              "      <td>22.46</td>\n",
              "      <td>23.06</td>\n",
              "      <td>25.85</td>\n",
              "    </tr>\n",
              "    <tr>\n",
              "      <th>1</th>\n",
              "      <td>1974</td>\n",
              "      <td>26.68</td>\n",
              "      <td>27.16</td>\n",
              "      <td>26.56</td>\n",
              "      <td>23.94</td>\n",
              "      <td>22.76</td>\n",
              "      <td>20.70</td>\n",
              "      <td>21.20</td>\n",
              "      <td>21.81</td>\n",
              "      <td>22.91</td>\n",
              "      <td>22.80</td>\n",
              "      <td>24.51</td>\n",
              "      <td>24.54</td>\n",
              "    </tr>\n",
              "    <tr>\n",
              "      <th>2</th>\n",
              "      <td>1975</td>\n",
              "      <td>25.27</td>\n",
              "      <td>26.92</td>\n",
              "      <td>26.43</td>\n",
              "      <td>22.82</td>\n",
              "      <td>21.37</td>\n",
              "      <td>20.50</td>\n",
              "      <td>19.68</td>\n",
              "      <td>22.98</td>\n",
              "      <td>22.40</td>\n",
              "      <td>22.65</td>\n",
              "      <td>24.11</td>\n",
              "      <td>26.53</td>\n",
              "    </tr>\n",
              "    <tr>\n",
              "      <th>3</th>\n",
              "      <td>1976</td>\n",
              "      <td>27.48</td>\n",
              "      <td>26.20</td>\n",
              "      <td>25.55</td>\n",
              "      <td>24.99</td>\n",
              "      <td>22.01</td>\n",
              "      <td>21.18</td>\n",
              "      <td>20.14</td>\n",
              "      <td>21.15</td>\n",
              "      <td>21.27</td>\n",
              "      <td>22.06</td>\n",
              "      <td>24.40</td>\n",
              "      <td>25.56</td>\n",
              "    </tr>\n",
              "    <tr>\n",
              "      <th>4</th>\n",
              "      <td>1977</td>\n",
              "      <td>27.13</td>\n",
              "      <td>28.51</td>\n",
              "      <td>26.88</td>\n",
              "      <td>24.22</td>\n",
              "      <td>22.35</td>\n",
              "      <td>22.13</td>\n",
              "      <td>23.07</td>\n",
              "      <td>22.29</td>\n",
              "      <td>22.44</td>\n",
              "      <td>23.92</td>\n",
              "      <td>24.48</td>\n",
              "      <td>24.84</td>\n",
              "    </tr>\n",
              "  </tbody>\n",
              "</table>\n",
              "</div>"
            ],
            "text/plain": [
              "   YEAR    JAN    FEB    MAR    APR  ...    AUG    SEP    OCT    NOV    DEC\n",
              "0  1973  27.73  27.97  25.70  26.49  ...  21.03  21.46  22.46  23.06  25.85\n",
              "1  1974  26.68  27.16  26.56  23.94  ...  21.81  22.91  22.80  24.51  24.54\n",
              "2  1975  25.27  26.92  26.43  22.82  ...  22.98  22.40  22.65  24.11  26.53\n",
              "3  1976  27.48  26.20  25.55  24.99  ...  21.15  21.27  22.06  24.40  25.56\n",
              "4  1977  27.13  28.51  26.88  24.22  ...  22.29  22.44  23.92  24.48  24.84\n",
              "\n",
              "[5 rows x 13 columns]"
            ]
          },
          "metadata": {
            "tags": []
          },
          "execution_count": 211
        }
      ]
    },
    {
      "cell_type": "code",
      "metadata": {
        "id": "xJU01xosaLqA",
        "colab_type": "code",
        "outputId": "1899831e-00d8-46dc-fcec-0b6426647098",
        "colab": {
          "base_uri": "https://localhost:8080/",
          "height": 255
        }
      },
      "source": [
        "# Instead of modifying the current dataset, we will build another one from it\n",
        "\n",
        "import numpy as np\n",
        "from datetime import datetime, timedelta\n",
        "\n",
        "# First, create the dates column\n",
        "days = pd.date_range('01-01-1973', '01-01-2020', freq='M')\n",
        "data = pd.DataFrame({'date': days})\n",
        "print(data)"
      ],
      "execution_count": 212,
      "outputs": [
        {
          "output_type": "stream",
          "text": [
            "          date\n",
            "0   1973-01-31\n",
            "1   1973-02-28\n",
            "2   1973-03-31\n",
            "3   1973-04-30\n",
            "4   1973-05-31\n",
            "..         ...\n",
            "559 2019-08-31\n",
            "560 2019-09-30\n",
            "561 2019-10-31\n",
            "562 2019-11-30\n",
            "563 2019-12-31\n",
            "\n",
            "[564 rows x 1 columns]\n"
          ],
          "name": "stdout"
        }
      ]
    },
    {
      "cell_type": "code",
      "metadata": {
        "id": "JjdLD0b2bBxq",
        "colab_type": "code",
        "outputId": "6526d730-5965-43ea-9917-ee0f2d3f0bbc",
        "colab": {
          "base_uri": "https://localhost:8080/",
          "height": 204
        }
      },
      "source": [
        "# Then, we transfer the data accordingly\n",
        "array_tp = []\n",
        "\n",
        "def get_temperature(row):\n",
        "  num_to_month = ['JAN','FEB','MAR','APR','MAY','JUN','JUL','AUG','SEP','OCT','NOV','DEC']\n",
        "  array_tp.append(float(initial_data[initial_data['YEAR'] == row['date'].year][num_to_month[row['date'].month - 1]]))\n",
        "\n",
        "data.apply(get_temperature, axis = 1)\n",
        "data['tp'] = array_tp\n",
        "\n",
        "data.head()"
      ],
      "execution_count": 213,
      "outputs": [
        {
          "output_type": "execute_result",
          "data": {
            "text/html": [
              "<div>\n",
              "<style scoped>\n",
              "    .dataframe tbody tr th:only-of-type {\n",
              "        vertical-align: middle;\n",
              "    }\n",
              "\n",
              "    .dataframe tbody tr th {\n",
              "        vertical-align: top;\n",
              "    }\n",
              "\n",
              "    .dataframe thead th {\n",
              "        text-align: right;\n",
              "    }\n",
              "</style>\n",
              "<table border=\"1\" class=\"dataframe\">\n",
              "  <thead>\n",
              "    <tr style=\"text-align: right;\">\n",
              "      <th></th>\n",
              "      <th>date</th>\n",
              "      <th>tp</th>\n",
              "    </tr>\n",
              "  </thead>\n",
              "  <tbody>\n",
              "    <tr>\n",
              "      <th>0</th>\n",
              "      <td>1973-01-31</td>\n",
              "      <td>27.73</td>\n",
              "    </tr>\n",
              "    <tr>\n",
              "      <th>1</th>\n",
              "      <td>1973-02-28</td>\n",
              "      <td>27.97</td>\n",
              "    </tr>\n",
              "    <tr>\n",
              "      <th>2</th>\n",
              "      <td>1973-03-31</td>\n",
              "      <td>25.70</td>\n",
              "    </tr>\n",
              "    <tr>\n",
              "      <th>3</th>\n",
              "      <td>1973-04-30</td>\n",
              "      <td>26.49</td>\n",
              "    </tr>\n",
              "    <tr>\n",
              "      <th>4</th>\n",
              "      <td>1973-05-31</td>\n",
              "      <td>22.42</td>\n",
              "    </tr>\n",
              "  </tbody>\n",
              "</table>\n",
              "</div>"
            ],
            "text/plain": [
              "        date     tp\n",
              "0 1973-01-31  27.73\n",
              "1 1973-02-28  27.97\n",
              "2 1973-03-31  25.70\n",
              "3 1973-04-30  26.49\n",
              "4 1973-05-31  22.42"
            ]
          },
          "metadata": {
            "tags": []
          },
          "execution_count": 213
        }
      ]
    },
    {
      "cell_type": "code",
      "metadata": {
        "id": "gPlCRVutfIYk",
        "colab_type": "code",
        "colab": {
          "base_uri": "https://localhost:8080/",
          "height": 170
        },
        "outputId": "85c128b7-607e-413a-9526-de5f91359a00"
      },
      "source": [
        "# detect some errors in the dataset\n",
        "data['tp'].describe()"
      ],
      "execution_count": 214,
      "outputs": [
        {
          "output_type": "execute_result",
          "data": {
            "text/plain": [
              "count    564.000000\n",
              "mean     105.565177\n",
              "std      269.901335\n",
              "min       19.240000\n",
              "25%       22.420000\n",
              "50%       24.570000\n",
              "75%       26.765000\n",
              "max      999.900000\n",
              "Name: tp, dtype: float64"
            ]
          },
          "metadata": {
            "tags": []
          },
          "execution_count": 214
        }
      ]
    },
    {
      "cell_type": "code",
      "metadata": {
        "id": "q6_FlLl-t-m7",
        "colab_type": "code",
        "colab": {
          "base_uri": "https://localhost:8080/",
          "height": 204
        },
        "outputId": "a08143eb-22e3-41ce-f383-46cdaf32945d"
      },
      "source": [
        "# Some temperatures are set to 999, probably because it corresponds to missing datapoints\n",
        "data[data['tp'] > 900]['date'].dt.year.value_counts()"
      ],
      "execution_count": 215,
      "outputs": [
        {
          "output_type": "execute_result",
          "data": {
            "text/plain": [
              "2003    11\n",
              "1985    11\n",
              "2007     9\n",
              "1993     6\n",
              "2019     2\n",
              "2004     2\n",
              "1994     2\n",
              "1986     2\n",
              "2015     1\n",
              "1992     1\n",
              "Name: date, dtype: int64"
            ]
          },
          "metadata": {
            "tags": []
          },
          "execution_count": 215
        }
      ]
    },
    {
      "cell_type": "code",
      "metadata": {
        "id": "LVE-0Y4GJCVF",
        "colab_type": "code",
        "colab": {}
      },
      "source": [
        "# Let's set these missing values to NaN\n",
        "data.loc[data['tp'] > 900, 'tp'] = None"
      ],
      "execution_count": 0,
      "outputs": []
    },
    {
      "cell_type": "code",
      "metadata": {
        "id": "7R_dHkSZuSDT",
        "colab_type": "code",
        "colab": {
          "base_uri": "https://localhost:8080/",
          "height": 282
        },
        "outputId": "dc6ccba9-4716-431f-8b47-2fe3bc64390c"
      },
      "source": [
        "# Let's plot this without the missing values\n",
        "import matplotlib.pyplot as plt \n",
        "\n",
        "plt.plot(data['date'], data['tp'])\n",
        "# Global warming in action"
      ],
      "execution_count": 217,
      "outputs": [
        {
          "output_type": "execute_result",
          "data": {
            "text/plain": [
              "[<matplotlib.lines.Line2D at 0x7f10267e06d8>]"
            ]
          },
          "metadata": {
            "tags": []
          },
          "execution_count": 217
        },
        {
          "output_type": "display_data",
          "data": {
            "image/png": "[encoded data removed]",
            "text/plain": [
              "<Figure size 432x288 with 1 Axes>"
            ]
          },
          "metadata": {
            "tags": [],
            "needs_background": "light"
          }
        }
      ]
    },
    {
      "cell_type": "markdown",
      "metadata": {
        "id": "mAoOFy1PRDn5",
        "colab_type": "text"
      },
      "source": [
        "**Train/test split**"
      ]
    },
    {
      "cell_type": "code",
      "metadata": {
        "id": "1fsn7ZcHRC7D",
        "colab_type": "code",
        "colab": {}
      },
      "source": [
        "# train/test : We choose to predict the year 2019 from 2018 and 2017\n",
        "data_test = data[(data['date'].dt.year >= 2017) & (data['date'].dt.year <= 2019)]\n",
        "data_train = data[data['date'].dt.year <= 2018]"
      ],
      "execution_count": 0,
      "outputs": []
    },
    {
      "cell_type": "markdown",
      "metadata": {
        "id": "Vu7oEgCeRGTK",
        "colab_type": "text"
      },
      "source": [
        "**Transform the data into a supervised problem**"
      ]
    },
    {
      "cell_type": "code",
      "metadata": {
        "id": "g9_O67R5HI1Q",
        "colab_type": "code",
        "colab": {}
      },
      "source": [
        "def series_to_supervised(data, window=1, lag=1, dropnan=True):\n",
        "    cols, names = list(), list()\n",
        "    # Input sequence (t-n, ... t-1)\n",
        "    for i in range(window, 0, -1):\n",
        "        cols.append(data.shift(i))\n",
        "        names += [('%s(t-%d)' % (col, i)) for col in data.columns]\n",
        "    # Current timestep (t=0)\n",
        "    cols.append(data)\n",
        "    names += [('%s(t)' % (col)) for col in data.columns]\n",
        "    # Target timestep (t=lag)\n",
        "    cols.append(data.shift(-lag))\n",
        "    names += [('%s(t+%d)' % (col, lag)) for col in data.columns]\n",
        "    # Put it all together\n",
        "    agg = pd.concat(cols, axis=1)\n",
        "    agg.columns = names\n",
        "    # Drop rows with NaN values\n",
        "    if dropnan:\n",
        "        agg.dropna(inplace=True)\n",
        "    return agg"
      ],
      "execution_count": 0,
      "outputs": []
    },
    {
      "cell_type": "code",
      "metadata": {
        "id": "XzkLoiRDJhOf",
        "colab_type": "code",
        "colab": {
          "base_uri": "https://localhost:8080/",
          "height": 204
        },
        "outputId": "6d4e8c1a-fac7-45aa-d9a1-0ef849c07a1f"
      },
      "source": [
        "# Using one year of data (window = 11), we will predict the timestamp 1 year later (lag = 12)\n",
        "window = 11\n",
        "lag = 12\n",
        "series_train = series_to_supervised(data_train.drop('date', axis=1), window=window, lag=lag)\n",
        "series_test = series_to_supervised(data_test.drop('date', axis=1), window=window, lag=lag)\n",
        "series_train.head()"
      ],
      "execution_count": 220,
      "outputs": [
        {
          "output_type": "execute_result",
          "data": {
            "text/html": [
              "<div>\n",
              "<style scoped>\n",
              "    .dataframe tbody tr th:only-of-type {\n",
              "        vertical-align: middle;\n",
              "    }\n",
              "\n",
              "    .dataframe tbody tr th {\n",
              "        vertical-align: top;\n",
              "    }\n",
              "\n",
              "    .dataframe thead th {\n",
              "        text-align: right;\n",
              "    }\n",
              "</style>\n",
              "<table border=\"1\" class=\"dataframe\">\n",
              "  <thead>\n",
              "    <tr style=\"text-align: right;\">\n",
              "      <th></th>\n",
              "      <th>tp(t-11)</th>\n",
              "      <th>tp(t-10)</th>\n",
              "      <th>tp(t-9)</th>\n",
              "      <th>tp(t-8)</th>\n",
              "      <th>tp(t-7)</th>\n",
              "      <th>tp(t-6)</th>\n",
              "      <th>tp(t-5)</th>\n",
              "      <th>tp(t-4)</th>\n",
              "      <th>tp(t-3)</th>\n",
              "      <th>tp(t-2)</th>\n",
              "      <th>tp(t-1)</th>\n",
              "      <th>tp(t)</th>\n",
              "      <th>tp(t+12)</th>\n",
              "    </tr>\n",
              "  </thead>\n",
              "  <tbody>\n",
              "    <tr>\n",
              "      <th>11</th>\n",
              "      <td>27.73</td>\n",
              "      <td>27.97</td>\n",
              "      <td>25.70</td>\n",
              "      <td>26.49</td>\n",
              "      <td>22.42</td>\n",
              "      <td>22.76</td>\n",
              "      <td>22.14</td>\n",
              "      <td>21.03</td>\n",
              "      <td>21.46</td>\n",
              "      <td>22.46</td>\n",
              "      <td>23.06</td>\n",
              "      <td>25.85</td>\n",
              "      <td>24.54</td>\n",
              "    </tr>\n",
              "    <tr>\n",
              "      <th>12</th>\n",
              "      <td>27.97</td>\n",
              "      <td>25.70</td>\n",
              "      <td>26.49</td>\n",
              "      <td>22.42</td>\n",
              "      <td>22.76</td>\n",
              "      <td>22.14</td>\n",
              "      <td>21.03</td>\n",
              "      <td>21.46</td>\n",
              "      <td>22.46</td>\n",
              "      <td>23.06</td>\n",
              "      <td>25.85</td>\n",
              "      <td>26.68</td>\n",
              "      <td>25.27</td>\n",
              "    </tr>\n",
              "    <tr>\n",
              "      <th>13</th>\n",
              "      <td>25.70</td>\n",
              "      <td>26.49</td>\n",
              "      <td>22.42</td>\n",
              "      <td>22.76</td>\n",
              "      <td>22.14</td>\n",
              "      <td>21.03</td>\n",
              "      <td>21.46</td>\n",
              "      <td>22.46</td>\n",
              "      <td>23.06</td>\n",
              "      <td>25.85</td>\n",
              "      <td>26.68</td>\n",
              "      <td>27.16</td>\n",
              "      <td>26.92</td>\n",
              "    </tr>\n",
              "    <tr>\n",
              "      <th>14</th>\n",
              "      <td>26.49</td>\n",
              "      <td>22.42</td>\n",
              "      <td>22.76</td>\n",
              "      <td>22.14</td>\n",
              "      <td>21.03</td>\n",
              "      <td>21.46</td>\n",
              "      <td>22.46</td>\n",
              "      <td>23.06</td>\n",
              "      <td>25.85</td>\n",
              "      <td>26.68</td>\n",
              "      <td>27.16</td>\n",
              "      <td>26.56</td>\n",
              "      <td>26.43</td>\n",
              "    </tr>\n",
              "    <tr>\n",
              "      <th>15</th>\n",
              "      <td>22.42</td>\n",
              "      <td>22.76</td>\n",
              "      <td>22.14</td>\n",
              "      <td>21.03</td>\n",
              "      <td>21.46</td>\n",
              "      <td>22.46</td>\n",
              "      <td>23.06</td>\n",
              "      <td>25.85</td>\n",
              "      <td>26.68</td>\n",
              "      <td>27.16</td>\n",
              "      <td>26.56</td>\n",
              "      <td>23.94</td>\n",
              "      <td>22.82</td>\n",
              "    </tr>\n",
              "  </tbody>\n",
              "</table>\n",
              "</div>"
            ],
            "text/plain": [
              "    tp(t-11)  tp(t-10)  tp(t-9)  tp(t-8)  ...  tp(t-2)  tp(t-1)  tp(t)  tp(t+12)\n",
              "11     27.73     27.97    25.70    26.49  ...    22.46    23.06  25.85     24.54\n",
              "12     27.97     25.70    26.49    22.42  ...    23.06    25.85  26.68     25.27\n",
              "13     25.70     26.49    22.42    22.76  ...    25.85    26.68  27.16     26.92\n",
              "14     26.49     22.42    22.76    22.14  ...    26.68    27.16  26.56     26.43\n",
              "15     22.42     22.76    22.14    21.03  ...    27.16    26.56  23.94     22.82\n",
              "\n",
              "[5 rows x 13 columns]"
            ]
          },
          "metadata": {
            "tags": []
          },
          "execution_count": 220
        }
      ]
    },
    {
      "cell_type": "markdown",
      "metadata": {
        "id": "pFOF9ufiPBDw",
        "colab_type": "text"
      },
      "source": [
        "**Train/validation split**"
      ]
    },
    {
      "cell_type": "code",
      "metadata": {
        "id": "P9qil7gcK1iE",
        "colab_type": "code",
        "colab": {
          "base_uri": "https://localhost:8080/",
          "height": 255
        },
        "outputId": "b6acef06-3385-42dd-843f-3184d8968a15"
      },
      "source": [
        "from sklearn.model_selection import train_test_split\n",
        "\n",
        "# Label train\n",
        "labels_col = 'tp(t+%d)' % lag\n",
        "labels_train = series_train[labels_col]\n",
        "series_train = series_train.drop(labels_col, axis=1)\n",
        "\n",
        "# Label test\n",
        "Y_test = series_test[labels_col]\n",
        "X_test = series_test.drop(labels_col, axis=1)\n",
        "print('Test set shape', X_test.shape)\n",
        "\n",
        "# train/validation\n",
        "X_train, X_valid, Y_train, Y_valid = train_test_split(series_train, labels_train.values, test_size=0.3, random_state=0)\n",
        "print('Train set shape', X_train.shape)\n",
        "print('Validation set shape', X_valid.shape)\n",
        "X_train.head()"
      ],
      "execution_count": 221,
      "outputs": [
        {
          "output_type": "stream",
          "text": [
            "Test set shape (11, 12)\n",
            "Train set shape (265, 12)\n",
            "Validation set shape (114, 12)\n"
          ],
          "name": "stdout"
        },
        {
          "output_type": "execute_result",
          "data": {
            "text/html": [
              "<div>\n",
              "<style scoped>\n",
              "    .dataframe tbody tr th:only-of-type {\n",
              "        vertical-align: middle;\n",
              "    }\n",
              "\n",
              "    .dataframe tbody tr th {\n",
              "        vertical-align: top;\n",
              "    }\n",
              "\n",
              "    .dataframe thead th {\n",
              "        text-align: right;\n",
              "    }\n",
              "</style>\n",
              "<table border=\"1\" class=\"dataframe\">\n",
              "  <thead>\n",
              "    <tr style=\"text-align: right;\">\n",
              "      <th></th>\n",
              "      <th>tp(t-11)</th>\n",
              "      <th>tp(t-10)</th>\n",
              "      <th>tp(t-9)</th>\n",
              "      <th>tp(t-8)</th>\n",
              "      <th>tp(t-7)</th>\n",
              "      <th>tp(t-6)</th>\n",
              "      <th>tp(t-5)</th>\n",
              "      <th>tp(t-4)</th>\n",
              "      <th>tp(t-3)</th>\n",
              "      <th>tp(t-2)</th>\n",
              "      <th>tp(t-1)</th>\n",
              "      <th>tp(t)</th>\n",
              "    </tr>\n",
              "  </thead>\n",
              "  <tbody>\n",
              "    <tr>\n",
              "      <th>221</th>\n",
              "      <td>20.25</td>\n",
              "      <td>19.95</td>\n",
              "      <td>21.17</td>\n",
              "      <td>24.21</td>\n",
              "      <td>26.19</td>\n",
              "      <td>26.08</td>\n",
              "      <td>25.44</td>\n",
              "      <td>26.43</td>\n",
              "      <td>25.52</td>\n",
              "      <td>24.72</td>\n",
              "      <td>21.69</td>\n",
              "      <td>21.42</td>\n",
              "    </tr>\n",
              "    <tr>\n",
              "      <th>455</th>\n",
              "      <td>28.58</td>\n",
              "      <td>29.10</td>\n",
              "      <td>26.49</td>\n",
              "      <td>24.59</td>\n",
              "      <td>22.87</td>\n",
              "      <td>20.35</td>\n",
              "      <td>21.93</td>\n",
              "      <td>21.25</td>\n",
              "      <td>22.74</td>\n",
              "      <td>22.86</td>\n",
              "      <td>24.45</td>\n",
              "      <td>26.92</td>\n",
              "    </tr>\n",
              "    <tr>\n",
              "      <th>295</th>\n",
              "      <td>21.44</td>\n",
              "      <td>23.50</td>\n",
              "      <td>23.96</td>\n",
              "      <td>26.51</td>\n",
              "      <td>26.52</td>\n",
              "      <td>28.03</td>\n",
              "      <td>25.35</td>\n",
              "      <td>24.57</td>\n",
              "      <td>22.43</td>\n",
              "      <td>21.53</td>\n",
              "      <td>22.00</td>\n",
              "      <td>21.76</td>\n",
              "    </tr>\n",
              "    <tr>\n",
              "      <th>28</th>\n",
              "      <td>20.70</td>\n",
              "      <td>21.20</td>\n",
              "      <td>21.81</td>\n",
              "      <td>22.91</td>\n",
              "      <td>22.80</td>\n",
              "      <td>24.51</td>\n",
              "      <td>24.54</td>\n",
              "      <td>25.27</td>\n",
              "      <td>26.92</td>\n",
              "      <td>26.43</td>\n",
              "      <td>22.82</td>\n",
              "      <td>21.37</td>\n",
              "    </tr>\n",
              "    <tr>\n",
              "      <th>317</th>\n",
              "      <td>21.30</td>\n",
              "      <td>23.21</td>\n",
              "      <td>23.48</td>\n",
              "      <td>23.23</td>\n",
              "      <td>23.54</td>\n",
              "      <td>26.86</td>\n",
              "      <td>27.83</td>\n",
              "      <td>27.96</td>\n",
              "      <td>27.00</td>\n",
              "      <td>24.69</td>\n",
              "      <td>22.21</td>\n",
              "      <td>21.25</td>\n",
              "    </tr>\n",
              "  </tbody>\n",
              "</table>\n",
              "</div>"
            ],
            "text/plain": [
              "     tp(t-11)  tp(t-10)  tp(t-9)  tp(t-8)  ...  tp(t-3)  tp(t-2)  tp(t-1)  tp(t)\n",
              "221     20.25     19.95    21.17    24.21  ...    25.52    24.72    21.69  21.42\n",
              "455     28.58     29.10    26.49    24.59  ...    22.74    22.86    24.45  26.92\n",
              "295     21.44     23.50    23.96    26.51  ...    22.43    21.53    22.00  21.76\n",
              "28      20.70     21.20    21.81    22.91  ...    26.92    26.43    22.82  21.37\n",
              "317     21.30     23.21    23.48    23.23  ...    27.00    24.69    22.21  21.25\n",
              "\n",
              "[5 rows x 12 columns]"
            ]
          },
          "metadata": {
            "tags": []
          },
          "execution_count": 221
        }
      ]
    },
    {
      "cell_type": "markdown",
      "metadata": {
        "id": "bTEOuQWcjRhV",
        "colab_type": "text"
      },
      "source": [
        "**Test MLP** : we expect poor results, because the input is not treated as sequenced data. Therefore, it's difficult to identify the time-depending patterns."
      ]
    },
    {
      "cell_type": "code",
      "metadata": {
        "id": "VllEndCCbHNn",
        "colab_type": "code",
        "colab": {}
      },
      "source": [
        "# Since we don't have a lot of data, let's put the entire training data into one batch\n",
        "epochs = 40\n",
        "batch = 265\n",
        "lr = 0.0005\n",
        "adam = optimizers.Adam(lr)"
      ],
      "execution_count": 0,
      "outputs": []
    },
    {
      "cell_type": "markdown",
      "metadata": {
        "id": "zJ4PfNXWnbH4",
        "colab_type": "text"
      },
      "source": [
        "We build a simple model with one dense layer only (that makes two with the output layer). This is a simple problem and adding more complexity here doesn't make sense."
      ]
    },
    {
      "cell_type": "code",
      "metadata": {
        "id": "wUB9C67rkMPH",
        "colab_type": "code",
        "colab": {
          "base_uri": "https://localhost:8080/",
          "height": 221
        },
        "outputId": "47fd4c14-d2a4-4f89-8903-00d422921108"
      },
      "source": [
        "model_mlp = Sequential()\n",
        "model_mlp.add(Dense(64, activation='relu', input_dim=X_train.shape[1]))\n",
        "model_mlp.add(Dense(1))\n",
        "# Because we are doing time series forecasting, we will use mse as the loss function\n",
        "model_mlp.compile(loss='mse', optimizer=adam)\n",
        "model_mlp.summary()"
      ],
      "execution_count": 223,
      "outputs": [
        {
          "output_type": "stream",
          "text": [
            "Model: \"sequential_16\"\n",
            "_________________________________________________________________\n",
            "Layer (type)                 Output Shape              Param #   \n",
            "=================================================================\n",
            "dense_27 (Dense)             (None, 64)                832       \n",
            "_________________________________________________________________\n",
            "dense_28 (Dense)             (None, 1)                 65        \n",
            "=================================================================\n",
            "Total params: 897\n",
            "Trainable params: 897\n",
            "Non-trainable params: 0\n",
            "_________________________________________________________________\n"
          ],
          "name": "stdout"
        }
      ]
    },
    {
      "cell_type": "code",
      "metadata": {
        "id": "aGbYw9VRkdlB",
        "colab_type": "code",
        "colab": {
          "base_uri": "https://localhost:8080/",
          "height": 1000
        },
        "outputId": "b913edf0-3b57-4463-dd34-3c9591aca18a"
      },
      "source": [
        "mlp_history = model_mlp.fit(X_train.values, Y_train, validation_data=(X_valid.values, Y_valid), epochs=epochs, verbose=1)"
      ],
      "execution_count": 224,
      "outputs": [
        {
          "output_type": "stream",
          "text": [
            "Train on 265 samples, validate on 114 samples\n",
            "Epoch 1/40\n",
            "265/265 [==============================] - 0s 510us/step - loss: 221.7815 - val_loss: 103.3712\n",
            "Epoch 2/40\n",
            "265/265 [==============================] - 0s 150us/step - loss: 63.5036 - val_loss: 16.4194\n",
            "Epoch 3/40\n",
            "265/265 [==============================] - 0s 148us/step - loss: 10.5240 - val_loss: 10.8093\n",
            "Epoch 4/40\n",
            "265/265 [==============================] - 0s 146us/step - loss: 12.9803 - val_loss: 15.4470\n",
            "Epoch 5/40\n",
            "265/265 [==============================] - 0s 142us/step - loss: 12.1198 - val_loss: 9.9061\n",
            "Epoch 6/40\n",
            "265/265 [==============================] - 0s 153us/step - loss: 8.2441 - val_loss: 7.2360\n",
            "Epoch 7/40\n",
            "265/265 [==============================] - 0s 141us/step - loss: 7.3884 - val_loss: 6.9649\n",
            "Epoch 8/40\n",
            "265/265 [==============================] - 0s 159us/step - loss: 7.0337 - val_loss: 6.6054\n",
            "Epoch 9/40\n",
            "265/265 [==============================] - 0s 159us/step - loss: 6.6949 - val_loss: 6.7547\n",
            "Epoch 10/40\n",
            "265/265 [==============================] - 0s 152us/step - loss: 6.5835 - val_loss: 6.4569\n",
            "Epoch 11/40\n",
            "265/265 [==============================] - 0s 149us/step - loss: 6.4200 - val_loss: 6.2099\n",
            "Epoch 12/40\n",
            "265/265 [==============================] - 0s 168us/step - loss: 6.3107 - val_loss: 6.1086\n",
            "Epoch 13/40\n",
            "265/265 [==============================] - 0s 145us/step - loss: 6.1657 - val_loss: 6.0400\n",
            "Epoch 14/40\n",
            "265/265 [==============================] - 0s 162us/step - loss: 6.0263 - val_loss: 5.8621\n",
            "Epoch 15/40\n",
            "265/265 [==============================] - 0s 143us/step - loss: 5.8951 - val_loss: 5.7673\n",
            "Epoch 16/40\n",
            "265/265 [==============================] - 0s 132us/step - loss: 5.8014 - val_loss: 5.7093\n",
            "Epoch 17/40\n",
            "265/265 [==============================] - 0s 145us/step - loss: 5.6270 - val_loss: 5.4714\n",
            "Epoch 18/40\n",
            "265/265 [==============================] - 0s 145us/step - loss: 5.5313 - val_loss: 5.3632\n",
            "Epoch 19/40\n",
            "265/265 [==============================] - 0s 214us/step - loss: 5.3807 - val_loss: 5.3144\n",
            "Epoch 20/40\n",
            "265/265 [==============================] - 0s 148us/step - loss: 5.2509 - val_loss: 5.1397\n",
            "Epoch 21/40\n",
            "265/265 [==============================] - 0s 147us/step - loss: 5.1568 - val_loss: 5.0037\n",
            "Epoch 22/40\n",
            "265/265 [==============================] - 0s 179us/step - loss: 5.0638 - val_loss: 4.9281\n",
            "Epoch 23/40\n",
            "265/265 [==============================] - 0s 187us/step - loss: 4.8945 - val_loss: 4.7820\n",
            "Epoch 24/40\n",
            "265/265 [==============================] - 0s 161us/step - loss: 4.7788 - val_loss: 4.6717\n",
            "Epoch 25/40\n",
            "265/265 [==============================] - 0s 145us/step - loss: 4.6469 - val_loss: 4.6057\n",
            "Epoch 26/40\n",
            "265/265 [==============================] - 0s 146us/step - loss: 4.5489 - val_loss: 4.4994\n",
            "Epoch 27/40\n",
            "265/265 [==============================] - 0s 147us/step - loss: 4.4394 - val_loss: 4.3499\n",
            "Epoch 28/40\n",
            "265/265 [==============================] - 0s 154us/step - loss: 4.3203 - val_loss: 4.2339\n",
            "Epoch 29/40\n",
            "265/265 [==============================] - 0s 146us/step - loss: 4.2151 - val_loss: 4.1582\n",
            "Epoch 30/40\n",
            "265/265 [==============================] - 0s 149us/step - loss: 4.1117 - val_loss: 4.0685\n",
            "Epoch 31/40\n",
            "265/265 [==============================] - 0s 148us/step - loss: 4.0036 - val_loss: 3.9429\n",
            "Epoch 32/40\n",
            "265/265 [==============================] - 0s 150us/step - loss: 3.9035 - val_loss: 3.8826\n",
            "Epoch 33/40\n",
            "265/265 [==============================] - 0s 147us/step - loss: 3.8619 - val_loss: 3.7676\n",
            "Epoch 34/40\n",
            "265/265 [==============================] - 0s 147us/step - loss: 3.7254 - val_loss: 3.6766\n",
            "Epoch 35/40\n",
            "265/265 [==============================] - 0s 168us/step - loss: 3.6300 - val_loss: 3.6037\n",
            "Epoch 36/40\n",
            "265/265 [==============================] - 0s 125us/step - loss: 3.5610 - val_loss: 3.4920\n",
            "Epoch 37/40\n",
            "265/265 [==============================] - 0s 134us/step - loss: 3.4761 - val_loss: 3.4663\n",
            "Epoch 38/40\n",
            "265/265 [==============================] - 0s 131us/step - loss: 3.3857 - val_loss: 3.3540\n",
            "Epoch 39/40\n",
            "265/265 [==============================] - 0s 125us/step - loss: 3.3333 - val_loss: 3.2793\n",
            "Epoch 40/40\n",
            "265/265 [==============================] - 0s 127us/step - loss: 3.2202 - val_loss: 3.2330\n"
          ],
          "name": "stdout"
        }
      ]
    },
    {
      "cell_type": "markdown",
      "metadata": {
        "id": "tIMeE4dPl-VM",
        "colab_type": "text"
      },
      "source": [
        "**Test CNN** : since a CNN uses filters in order to extract information, it will be able to detect patterns and therefore produce better results.\n",
        "But since the expected input is different, we need to transform the input shape a bit (from 2D array to 3D array)."
      ]
    },
    {
      "cell_type": "code",
      "metadata": {
        "id": "qcHRl2DzlR3y",
        "colab_type": "code",
        "colab": {
          "base_uri": "https://localhost:8080/",
          "height": 51
        },
        "outputId": "b954f759-3472-4549-ddeb-9cdccacc97e0"
      },
      "source": [
        "# Input transformation\n",
        "X_train_series = X_train.values.reshape((X_train.shape[0], X_train.shape[1], 1))\n",
        "X_valid_series = X_valid.values.reshape((X_valid.shape[0], X_valid.shape[1], 1))\n",
        "print('Train set shape', X_train_series.shape)\n",
        "print('Validation set shape', X_valid_series.shape)"
      ],
      "execution_count": 225,
      "outputs": [
        {
          "output_type": "stream",
          "text": [
            "Train set shape (265, 12, 1)\n",
            "Validation set shape (114, 12, 1)\n"
          ],
          "name": "stdout"
        }
      ]
    },
    {
      "cell_type": "markdown",
      "metadata": {
        "id": "IFdoj_Pwn7Pa",
        "colab_type": "text"
      },
      "source": [
        "We build a simple CNN model with one 1D convolutionnal, followed by a pooling layer. The output is then flattened and passed through a dense layer to produce the final prediction."
      ]
    },
    {
      "cell_type": "code",
      "metadata": {
        "id": "Xl1VpTRlnHYb",
        "colab_type": "code",
        "colab": {
          "base_uri": "https://localhost:8080/",
          "height": 323
        },
        "outputId": "86edfd12-7521-40f0-aeab-a01eb8644447"
      },
      "source": [
        "model_cnn = Sequential()\n",
        "model_cnn.add(Conv1D(filters=64, kernel_size=2, activation='relu', input_shape=(X_train_series.shape[1], X_train_series.shape[2])))\n",
        "model_cnn.add(MaxPooling1D(pool_size=2))\n",
        "model_cnn.add(Flatten())\n",
        "model_cnn.add(Dense(32, activation='relu'))\n",
        "model_cnn.add(Dense(1))\n",
        "model_cnn.compile(loss='mse', optimizer=adam)\n",
        "model_cnn.summary()"
      ],
      "execution_count": 226,
      "outputs": [
        {
          "output_type": "stream",
          "text": [
            "Model: \"sequential_17\"\n",
            "_________________________________________________________________\n",
            "Layer (type)                 Output Shape              Param #   \n",
            "=================================================================\n",
            "conv1d_6 (Conv1D)            (None, 11, 64)            192       \n",
            "_________________________________________________________________\n",
            "max_pooling1d_6 (MaxPooling1 (None, 5, 64)             0         \n",
            "_________________________________________________________________\n",
            "flatten_6 (Flatten)          (None, 320)               0         \n",
            "_________________________________________________________________\n",
            "dense_29 (Dense)             (None, 32)                10272     \n",
            "_________________________________________________________________\n",
            "dense_30 (Dense)             (None, 1)                 33        \n",
            "=================================================================\n",
            "Total params: 10,497\n",
            "Trainable params: 10,497\n",
            "Non-trainable params: 0\n",
            "_________________________________________________________________\n"
          ],
          "name": "stdout"
        }
      ]
    },
    {
      "cell_type": "code",
      "metadata": {
        "id": "RorB_ppOouBY",
        "colab_type": "code",
        "colab": {
          "base_uri": "https://localhost:8080/",
          "height": 1000
        },
        "outputId": "dc064c8e-07ed-433b-e03a-c8fbb4bd38a4"
      },
      "source": [
        "cnn_history = model_cnn.fit(X_train_series, Y_train, validation_data=(X_valid_series, Y_valid), epochs=epochs, verbose=1)"
      ],
      "execution_count": 227,
      "outputs": [
        {
          "output_type": "stream",
          "text": [
            "Train on 265 samples, validate on 114 samples\n",
            "Epoch 1/40\n",
            "265/265 [==============================] - 0s 644us/step - loss: 75.2654 - val_loss: 52.4713\n",
            "Epoch 2/40\n",
            "265/265 [==============================] - 0s 170us/step - loss: 20.9855 - val_loss: 16.3733\n",
            "Epoch 3/40\n",
            "265/265 [==============================] - 0s 163us/step - loss: 12.8755 - val_loss: 13.8938\n",
            "Epoch 4/40\n",
            "265/265 [==============================] - 0s 163us/step - loss: 10.5501 - val_loss: 8.6137\n",
            "Epoch 5/40\n",
            "265/265 [==============================] - 0s 176us/step - loss: 8.7934 - val_loss: 8.6573\n",
            "Epoch 6/40\n",
            "265/265 [==============================] - 0s 173us/step - loss: 8.0989 - val_loss: 7.3458\n",
            "Epoch 7/40\n",
            "265/265 [==============================] - 0s 165us/step - loss: 7.8951 - val_loss: 7.0861\n",
            "Epoch 8/40\n",
            "265/265 [==============================] - 0s 164us/step - loss: 7.3820 - val_loss: 6.8941\n",
            "Epoch 9/40\n",
            "265/265 [==============================] - 0s 165us/step - loss: 7.2208 - val_loss: 6.3851\n",
            "Epoch 10/40\n",
            "265/265 [==============================] - 0s 219us/step - loss: 6.6317 - val_loss: 6.4741\n",
            "Epoch 11/40\n",
            "265/265 [==============================] - 0s 161us/step - loss: 6.2580 - val_loss: 5.7680\n",
            "Epoch 12/40\n",
            "265/265 [==============================] - 0s 180us/step - loss: 6.0445 - val_loss: 5.6174\n",
            "Epoch 13/40\n",
            "265/265 [==============================] - 0s 171us/step - loss: 5.7575 - val_loss: 5.5139\n",
            "Epoch 14/40\n",
            "265/265 [==============================] - 0s 175us/step - loss: 5.5029 - val_loss: 5.0113\n",
            "Epoch 15/40\n",
            "265/265 [==============================] - 0s 161us/step - loss: 5.3532 - val_loss: 4.8819\n",
            "Epoch 16/40\n",
            "265/265 [==============================] - 0s 162us/step - loss: 4.9931 - val_loss: 4.5810\n",
            "Epoch 17/40\n",
            "265/265 [==============================] - 0s 161us/step - loss: 4.7507 - val_loss: 4.4607\n",
            "Epoch 18/40\n",
            "265/265 [==============================] - 0s 159us/step - loss: 4.6387 - val_loss: 4.1733\n",
            "Epoch 19/40\n",
            "265/265 [==============================] - 0s 166us/step - loss: 4.3698 - val_loss: 4.0550\n",
            "Epoch 20/40\n",
            "265/265 [==============================] - 0s 161us/step - loss: 4.2245 - val_loss: 3.8079\n",
            "Epoch 21/40\n",
            "265/265 [==============================] - 0s 160us/step - loss: 3.8907 - val_loss: 3.6540\n",
            "Epoch 22/40\n",
            "265/265 [==============================] - 0s 185us/step - loss: 3.6938 - val_loss: 3.4403\n",
            "Epoch 23/40\n",
            "265/265 [==============================] - 0s 188us/step - loss: 3.5327 - val_loss: 3.3423\n",
            "Epoch 24/40\n",
            "265/265 [==============================] - 0s 179us/step - loss: 3.5067 - val_loss: 3.2364\n",
            "Epoch 25/40\n",
            "265/265 [==============================] - 0s 171us/step - loss: 3.2630 - val_loss: 3.0118\n",
            "Epoch 26/40\n",
            "265/265 [==============================] - 0s 168us/step - loss: 3.0815 - val_loss: 2.8482\n",
            "Epoch 27/40\n",
            "265/265 [==============================] - 0s 173us/step - loss: 2.9266 - val_loss: 2.8661\n",
            "Epoch 28/40\n",
            "265/265 [==============================] - 0s 166us/step - loss: 2.8934 - val_loss: 2.6546\n",
            "Epoch 29/40\n",
            "265/265 [==============================] - 0s 182us/step - loss: 2.7148 - val_loss: 2.5442\n",
            "Epoch 30/40\n",
            "265/265 [==============================] - 0s 164us/step - loss: 2.6679 - val_loss: 2.4274\n",
            "Epoch 31/40\n",
            "265/265 [==============================] - 0s 167us/step - loss: 2.5128 - val_loss: 2.4118\n",
            "Epoch 32/40\n",
            "265/265 [==============================] - 0s 221us/step - loss: 2.4438 - val_loss: 2.2619\n",
            "Epoch 33/40\n",
            "265/265 [==============================] - 0s 172us/step - loss: 2.2705 - val_loss: 2.2096\n",
            "Epoch 34/40\n",
            "265/265 [==============================] - 0s 202us/step - loss: 2.2348 - val_loss: 2.0822\n",
            "Epoch 35/40\n",
            "265/265 [==============================] - 0s 177us/step - loss: 2.1296 - val_loss: 2.0891\n",
            "Epoch 36/40\n",
            "265/265 [==============================] - 0s 165us/step - loss: 2.1244 - val_loss: 1.9651\n",
            "Epoch 37/40\n",
            "265/265 [==============================] - 0s 171us/step - loss: 1.9830 - val_loss: 2.0149\n",
            "Epoch 38/40\n",
            "265/265 [==============================] - 0s 188us/step - loss: 1.9396 - val_loss: 1.8775\n",
            "Epoch 39/40\n",
            "265/265 [==============================] - 0s 168us/step - loss: 1.9093 - val_loss: 1.9408\n",
            "Epoch 40/40\n",
            "265/265 [==============================] - 0s 165us/step - loss: 1.8540 - val_loss: 1.7921\n"
          ],
          "name": "stdout"
        }
      ]
    },
    {
      "cell_type": "markdown",
      "metadata": {
        "id": "afG5kuC5pjst",
        "colab_type": "text"
      },
      "source": [
        "**Test LSTM** : it will consider the data as a sequence, and therefore will be the more suited solution for this kinf of problem. Moreover, its method can detect patterns better than the other ones, especially with long sequences (even if our input is pretty small here).\n",
        "We can reuse the CNN input.\n",
        "We build a simple model : one layer with 50 LSTM cells."
      ]
    },
    {
      "cell_type": "code",
      "metadata": {
        "id": "Wj3KnBOSo21Q",
        "colab_type": "code",
        "colab": {
          "base_uri": "https://localhost:8080/",
          "height": 221
        },
        "outputId": "d1335014-6ca1-433a-b83a-df5c9ca761a4"
      },
      "source": [
        "model_lstm = Sequential()\n",
        "model_lstm.add(LSTM(50, activation='relu', input_shape=(X_train_series.shape[1], X_train_series.shape[2])))\n",
        "model_lstm.add(Dense(1))\n",
        "model_lstm.compile(loss='mse', optimizer=adam)\n",
        "model_lstm.summary()"
      ],
      "execution_count": 228,
      "outputs": [
        {
          "output_type": "stream",
          "text": [
            "Model: \"sequential_18\"\n",
            "_________________________________________________________________\n",
            "Layer (type)                 Output Shape              Param #   \n",
            "=================================================================\n",
            "lstm_5 (LSTM)                (None, 50)                10400     \n",
            "_________________________________________________________________\n",
            "dense_31 (Dense)             (None, 1)                 51        \n",
            "=================================================================\n",
            "Total params: 10,451\n",
            "Trainable params: 10,451\n",
            "Non-trainable params: 0\n",
            "_________________________________________________________________\n"
          ],
          "name": "stdout"
        }
      ]
    },
    {
      "cell_type": "code",
      "metadata": {
        "id": "FBjS0MdYqcHi",
        "colab_type": "code",
        "colab": {
          "base_uri": "https://localhost:8080/",
          "height": 1000
        },
        "outputId": "b27fd156-9ac2-48a6-9a82-238b4f554608"
      },
      "source": [
        "lstm_history = model_lstm.fit(X_train_series, Y_train, validation_data=(X_valid_series, Y_valid), epochs=epochs, verbose=1)"
      ],
      "execution_count": 229,
      "outputs": [
        {
          "output_type": "stream",
          "text": [
            "Train on 265 samples, validate on 114 samples\n",
            "Epoch 1/40\n",
            "265/265 [==============================] - 1s 3ms/step - loss: 462.0049 - val_loss: 187.9328\n",
            "Epoch 2/40\n",
            "265/265 [==============================] - 0s 1ms/step - loss: 97.6905 - val_loss: 21.2320\n",
            "Epoch 3/40\n",
            "265/265 [==============================] - 0s 1ms/step - loss: 13.4482 - val_loss: 7.1813\n",
            "Epoch 4/40\n",
            "265/265 [==============================] - 0s 1ms/step - loss: 8.7610 - val_loss: 5.8647\n",
            "Epoch 5/40\n",
            "265/265 [==============================] - 0s 1ms/step - loss: 4.8403 - val_loss: 3.7517\n",
            "Epoch 6/40\n",
            "265/265 [==============================] - 0s 1ms/step - loss: 4.1677 - val_loss: 3.2698\n",
            "Epoch 7/40\n",
            "265/265 [==============================] - 0s 1ms/step - loss: 3.5426 - val_loss: 3.7702\n",
            "Epoch 8/40\n",
            "265/265 [==============================] - 0s 1ms/step - loss: 3.8644 - val_loss: 3.1570\n",
            "Epoch 9/40\n",
            "265/265 [==============================] - 0s 1ms/step - loss: 4.0772 - val_loss: 3.5435\n",
            "Epoch 10/40\n",
            "265/265 [==============================] - 0s 1ms/step - loss: 3.7807 - val_loss: 3.8846\n",
            "Epoch 11/40\n",
            "265/265 [==============================] - 0s 1ms/step - loss: 3.3512 - val_loss: 3.0509\n",
            "Epoch 12/40\n",
            "265/265 [==============================] - 0s 1ms/step - loss: 3.1024 - val_loss: 2.9839\n",
            "Epoch 13/40\n",
            "265/265 [==============================] - 0s 1ms/step - loss: 2.8329 - val_loss: 2.6977\n",
            "Epoch 14/40\n",
            "265/265 [==============================] - 0s 1ms/step - loss: 3.0175 - val_loss: 2.6594\n",
            "Epoch 15/40\n",
            "265/265 [==============================] - 0s 1ms/step - loss: 2.6636 - val_loss: 2.7652\n",
            "Epoch 16/40\n",
            "265/265 [==============================] - 0s 1ms/step - loss: 2.7878 - val_loss: 2.9908\n",
            "Epoch 17/40\n",
            "265/265 [==============================] - 0s 1ms/step - loss: 2.6769 - val_loss: 2.3940\n",
            "Epoch 18/40\n",
            "265/265 [==============================] - 0s 1ms/step - loss: 2.4054 - val_loss: 2.1924\n",
            "Epoch 19/40\n",
            "265/265 [==============================] - 0s 1ms/step - loss: 2.1845 - val_loss: 2.0634\n",
            "Epoch 20/40\n",
            "265/265 [==============================] - 0s 1ms/step - loss: 2.0009 - val_loss: 1.8721\n",
            "Epoch 21/40\n",
            "265/265 [==============================] - 0s 1ms/step - loss: 1.9234 - val_loss: 1.7867\n",
            "Epoch 22/40\n",
            "265/265 [==============================] - 0s 1ms/step - loss: 1.8011 - val_loss: 1.8534\n",
            "Epoch 23/40\n",
            "265/265 [==============================] - 0s 1ms/step - loss: 1.9225 - val_loss: 1.7288\n",
            "Epoch 24/40\n",
            "265/265 [==============================] - 0s 1ms/step - loss: 1.7205 - val_loss: 1.5046\n",
            "Epoch 25/40\n",
            "265/265 [==============================] - 0s 1ms/step - loss: 1.5529 - val_loss: 1.5225\n",
            "Epoch 26/40\n",
            "265/265 [==============================] - 0s 1ms/step - loss: 1.4832 - val_loss: 1.3811\n",
            "Epoch 27/40\n",
            "265/265 [==============================] - 0s 1ms/step - loss: 1.5981 - val_loss: 1.3942\n",
            "Epoch 28/40\n",
            "265/265 [==============================] - 0s 1ms/step - loss: 1.4625 - val_loss: 1.3798\n",
            "Epoch 29/40\n",
            "265/265 [==============================] - 0s 1ms/step - loss: 1.3792 - val_loss: 1.3765\n",
            "Epoch 30/40\n",
            "265/265 [==============================] - 0s 1ms/step - loss: 1.5283 - val_loss: 1.2841\n",
            "Epoch 31/40\n",
            "265/265 [==============================] - 0s 1ms/step - loss: 1.4080 - val_loss: 1.4929\n",
            "Epoch 32/40\n",
            "265/265 [==============================] - 0s 1ms/step - loss: 1.4054 - val_loss: 1.3452\n",
            "Epoch 33/40\n",
            "265/265 [==============================] - 0s 1ms/step - loss: 1.3385 - val_loss: 1.2715\n",
            "Epoch 34/40\n",
            "265/265 [==============================] - 0s 1ms/step - loss: 1.3872 - val_loss: 1.2687\n",
            "Epoch 35/40\n",
            "265/265 [==============================] - 0s 1ms/step - loss: 1.3689 - val_loss: 1.2894\n",
            "Epoch 36/40\n",
            "265/265 [==============================] - 0s 2ms/step - loss: 1.4157 - val_loss: 1.3049\n",
            "Epoch 37/40\n",
            "265/265 [==============================] - 0s 1ms/step - loss: 1.3842 - val_loss: 1.2735\n",
            "Epoch 38/40\n",
            "265/265 [==============================] - 0s 2ms/step - loss: 1.5345 - val_loss: 1.6866\n",
            "Epoch 39/40\n",
            "265/265 [==============================] - 0s 2ms/step - loss: 1.8820 - val_loss: 1.2589\n",
            "Epoch 40/40\n",
            "265/265 [==============================] - 0s 1ms/step - loss: 1.4173 - val_loss: 2.2487\n"
          ],
          "name": "stdout"
        }
      ]
    },
    {
      "cell_type": "markdown",
      "metadata": {
        "id": "92ObvpwPqy6l",
        "colab_type": "text"
      },
      "source": [
        "We can see that the validation loss is significantly better."
      ]
    },
    {
      "cell_type": "markdown",
      "metadata": {
        "id": "jkznLSq5rCfm",
        "colab_type": "text"
      },
      "source": [
        "**CNN-LSTM Test** : let's be a bit crazy, we will combine the CNN and LSTM model to use the strengths of the two types of models. How does it work ? We will first use a CNN to analyse the data through an ensemble of filters, and then feed these outputs to the LSTM model that will reassemble the data together.\n",
        "So, the real question here : what's the point ? It enables us to treat very long sequences by applying filter on subsequences before treating them with a LSTM model.\n",
        "Therefore there is no need for this kind of model here, we will just build it to try it (we could modify the parameters to treat bigger sequences, but the missing values are messing with the lagged dataset...)."
      ]
    },
    {
      "cell_type": "markdown",
      "metadata": {
        "id": "FnoR_MgNtdlM",
        "colab_type": "text"
      },
      "source": [
        "We also need to reshape the input for this model (4D input : samples, subsequences, timesteps, features)"
      ]
    },
    {
      "cell_type": "code",
      "metadata": {
        "id": "RR_usJc1qfFT",
        "colab_type": "code",
        "colab": {
          "base_uri": "https://localhost:8080/",
          "height": 51
        },
        "outputId": "6d35b5d1-2fa9-43ed-aab2-2e644bbc9af3"
      },
      "source": [
        "subsequences = 2\n",
        "timesteps = X_train_series.shape[1]//subsequences\n",
        "X_train_series_sub = X_train_series.reshape((X_train_series.shape[0], subsequences, timesteps, 1))\n",
        "X_valid_series_sub = X_valid_series.reshape((X_valid_series.shape[0], subsequences, timesteps, 1))\n",
        "print('Train set shape', X_train_series_sub.shape)\n",
        "print('Validation set shape', X_valid_series_sub.shape)"
      ],
      "execution_count": 230,
      "outputs": [
        {
          "output_type": "stream",
          "text": [
            "Train set shape (265, 2, 6, 1)\n",
            "Validation set shape (114, 2, 6, 1)\n"
          ],
          "name": "stdout"
        }
      ]
    },
    {
      "cell_type": "markdown",
      "metadata": {
        "id": "FYLwPZMjt92x",
        "colab_type": "text"
      },
      "source": [
        "A detail here : the TimeDistributedLayer enables us to apply the same treatment to all of the subsequences (this is very important)."
      ]
    },
    {
      "cell_type": "code",
      "metadata": {
        "id": "RrR9qrLHt1fC",
        "colab_type": "code",
        "colab": {}
      },
      "source": [
        "model_cnn_lstm = Sequential()\n",
        "model_cnn_lstm.add(TimeDistributed(Conv1D(filters=64, kernel_size=1, activation='relu'), input_shape=(None, X_train_series_sub.shape[2], X_train_series_sub.shape[3])))\n",
        "model_cnn_lstm.add(TimeDistributed(MaxPooling1D(pool_size=2)))\n",
        "model_cnn_lstm.add(TimeDistributed(Flatten()))\n",
        "model_cnn_lstm.add(LSTM(50, activation='relu'))\n",
        "model_cnn_lstm.add(Dense(1))\n",
        "model_cnn_lstm.compile(loss='mse', optimizer=adam)"
      ],
      "execution_count": 0,
      "outputs": []
    },
    {
      "cell_type": "code",
      "metadata": {
        "id": "4z95lrxsuY1W",
        "colab_type": "code",
        "colab": {
          "base_uri": "https://localhost:8080/",
          "height": 1000
        },
        "outputId": "6f6836b7-26e4-4e9c-a061-9a0e68b762f1"
      },
      "source": [
        "cnn_lstm_history = model_cnn_lstm.fit(X_train_series_sub, Y_train, validation_data=(X_valid_series_sub, Y_valid), epochs=epochs, verbose=1)"
      ],
      "execution_count": 232,
      "outputs": [
        {
          "output_type": "stream",
          "text": [
            "Train on 265 samples, validate on 114 samples\n",
            "Epoch 1/40\n",
            "265/265 [==============================] - 1s 2ms/step - loss: 227.6913 - val_loss: 33.1079\n",
            "Epoch 2/40\n",
            "265/265 [==============================] - 0s 412us/step - loss: 11.4681 - val_loss: 8.1967\n",
            "Epoch 3/40\n",
            "265/265 [==============================] - 0s 425us/step - loss: 7.2762 - val_loss: 7.1738\n",
            "Epoch 4/40\n",
            "265/265 [==============================] - 0s 444us/step - loss: 6.8040 - val_loss: 5.5184\n",
            "Epoch 5/40\n",
            "265/265 [==============================] - 0s 478us/step - loss: 5.9687 - val_loss: 5.0564\n",
            "Epoch 6/40\n",
            "265/265 [==============================] - 0s 434us/step - loss: 5.4690 - val_loss: 6.4873\n",
            "Epoch 7/40\n",
            "265/265 [==============================] - 0s 419us/step - loss: 5.5512 - val_loss: 4.2128\n",
            "Epoch 8/40\n",
            "265/265 [==============================] - 0s 417us/step - loss: 4.4033 - val_loss: 3.7929\n",
            "Epoch 9/40\n",
            "265/265 [==============================] - 0s 423us/step - loss: 4.0078 - val_loss: 3.5222\n",
            "Epoch 10/40\n",
            "265/265 [==============================] - 0s 411us/step - loss: 3.5198 - val_loss: 3.4151\n",
            "Epoch 11/40\n",
            "265/265 [==============================] - 0s 409us/step - loss: 3.3319 - val_loss: 3.1075\n",
            "Epoch 12/40\n",
            "265/265 [==============================] - 0s 429us/step - loss: 2.9994 - val_loss: 2.2720\n",
            "Epoch 13/40\n",
            "265/265 [==============================] - 0s 430us/step - loss: 2.3643 - val_loss: 2.0232\n",
            "Epoch 14/40\n",
            "265/265 [==============================] - 0s 446us/step - loss: 2.1555 - val_loss: 1.7707\n",
            "Epoch 15/40\n",
            "265/265 [==============================] - 0s 446us/step - loss: 1.8180 - val_loss: 1.6395\n",
            "Epoch 16/40\n",
            "265/265 [==============================] - 0s 426us/step - loss: 1.8167 - val_loss: 2.3682\n",
            "Epoch 17/40\n",
            "265/265 [==============================] - 0s 437us/step - loss: 1.7571 - val_loss: 1.5336\n",
            "Epoch 18/40\n",
            "265/265 [==============================] - 0s 445us/step - loss: 1.5063 - val_loss: 1.4515\n",
            "Epoch 19/40\n",
            "265/265 [==============================] - 0s 405us/step - loss: 1.4655 - val_loss: 1.3976\n",
            "Epoch 20/40\n",
            "265/265 [==============================] - 0s 447us/step - loss: 1.4660 - val_loss: 1.4022\n",
            "Epoch 21/40\n",
            "265/265 [==============================] - 0s 427us/step - loss: 1.4701 - val_loss: 1.3490\n",
            "Epoch 22/40\n",
            "265/265 [==============================] - 0s 434us/step - loss: 1.3949 - val_loss: 1.3696\n",
            "Epoch 23/40\n",
            "265/265 [==============================] - 0s 476us/step - loss: 1.3833 - val_loss: 1.3623\n",
            "Epoch 24/40\n",
            "265/265 [==============================] - 0s 414us/step - loss: 1.4020 - val_loss: 1.5436\n",
            "Epoch 25/40\n",
            "265/265 [==============================] - 0s 399us/step - loss: 1.4419 - val_loss: 1.5236\n",
            "Epoch 26/40\n",
            "265/265 [==============================] - 0s 383us/step - loss: 1.4296 - val_loss: 1.3756\n",
            "Epoch 27/40\n",
            "265/265 [==============================] - 0s 385us/step - loss: 1.3665 - val_loss: 1.3563\n",
            "Epoch 28/40\n",
            "265/265 [==============================] - 0s 414us/step - loss: 1.5182 - val_loss: 1.3945\n",
            "Epoch 29/40\n",
            "265/265 [==============================] - 0s 418us/step - loss: 1.4939 - val_loss: 1.5811\n",
            "Epoch 30/40\n",
            "265/265 [==============================] - 0s 391us/step - loss: 1.4026 - val_loss: 1.3665\n",
            "Epoch 31/40\n",
            "265/265 [==============================] - 0s 399us/step - loss: 1.3899 - val_loss: 1.4054\n",
            "Epoch 32/40\n",
            "265/265 [==============================] - 0s 439us/step - loss: 1.3878 - val_loss: 1.3665\n",
            "Epoch 33/40\n",
            "265/265 [==============================] - 0s 401us/step - loss: 1.4363 - val_loss: 1.3526\n",
            "Epoch 34/40\n",
            "265/265 [==============================] - 0s 449us/step - loss: 1.3982 - val_loss: 2.2220\n",
            "Epoch 35/40\n",
            "265/265 [==============================] - 0s 437us/step - loss: 1.8702 - val_loss: 1.3498\n",
            "Epoch 36/40\n",
            "265/265 [==============================] - 0s 395us/step - loss: 1.8352 - val_loss: 1.7015\n",
            "Epoch 37/40\n",
            "265/265 [==============================] - 0s 405us/step - loss: 1.4357 - val_loss: 1.8583\n",
            "Epoch 38/40\n",
            "265/265 [==============================] - 0s 489us/step - loss: 1.6220 - val_loss: 1.5302\n",
            "Epoch 39/40\n",
            "265/265 [==============================] - 0s 498us/step - loss: 1.4787 - val_loss: 1.4242\n",
            "Epoch 40/40\n",
            "265/265 [==============================] - 0s 550us/step - loss: 1.3482 - val_loss: 1.6594\n"
          ],
          "name": "stdout"
        }
      ]
    },
    {
      "cell_type": "markdown",
      "metadata": {
        "id": "Yj0hjnigvGTx",
        "colab_type": "text"
      },
      "source": [
        "**Comparing models**"
      ]
    },
    {
      "cell_type": "code",
      "metadata": {
        "id": "oXT9xFPavzl9",
        "colab_type": "code",
        "colab": {}
      },
      "source": [
        "epochs_series = [x for x in range (1,41)]"
      ],
      "execution_count": 0,
      "outputs": []
    },
    {
      "cell_type": "markdown",
      "metadata": {
        "id": "lJJIDBVQvTC-",
        "colab_type": "text"
      },
      "source": [
        "MLP"
      ]
    },
    {
      "cell_type": "code",
      "metadata": {
        "id": "POPJfEvVveJ2",
        "colab_type": "code",
        "colab": {
          "base_uri": "https://localhost:8080/",
          "height": 279
        },
        "outputId": "7468d9a1-689f-45db-8ad9-fb459853a0f1"
      },
      "source": [
        "plt.plot(epochs_series, mlp_history.history['loss'], label='train_mse')\n",
        "plt.plot(epochs_series, mlp_history.history['val_loss'], label='val_mse')\n",
        "plt.xlabel('Epochs')\n",
        "plt.xlabel('MSE')\n",
        "plt.legend()\n",
        "plt.show()"
      ],
      "execution_count": 234,
      "outputs": [
        {
          "output_type": "display_data",
          "data": {
            "image/png": "[encoded data removed]",
            "text/plain": [
              "<Figure size 432x288 with 1 Axes>"
            ]
          },
          "metadata": {
            "tags": [],
            "needs_background": "light"
          }
        }
      ]
    },
    {
      "cell_type": "code",
      "metadata": {
        "id": "QKm_Lka73fIg",
        "colab_type": "code",
        "colab": {
          "base_uri": "https://localhost:8080/",
          "height": 34
        },
        "outputId": "4673abab-1988-4c31-dfae-4167d84475db"
      },
      "source": [
        "test_predictions_mlp = model_mlp.predict(X_test)\n",
        "dates_test = data_test[(data_test['date'].dt.year == 2019) | ((data_test['date'].dt.year == 2018) & (data_test['date'].dt.month == 12))].dropna()['date'].values\n",
        "print(len(test_predictions), len(dates_test))"
      ],
      "execution_count": 258,
      "outputs": [
        {
          "output_type": "stream",
          "text": [
            "11 11\n"
          ],
          "name": "stdout"
        }
      ]
    },
    {
      "cell_type": "code",
      "metadata": {
        "id": "uR1_ujTB32BF",
        "colab_type": "code",
        "colab": {
          "base_uri": "https://localhost:8080/",
          "height": 279
        },
        "outputId": "34c97b1d-20f2-4449-db97-32f6b88ccf52"
      },
      "source": [
        "plt.plot(dates_test, Y_test, label='real data')\n",
        "plt.plot(dates_test, test_predictions_mlp, label='prediction')\n",
        "plt.xlabel('date')\n",
        "plt.xlabel('temperature')\n",
        "plt.legend()\n",
        "plt.show()"
      ],
      "execution_count": 259,
      "outputs": [
        {
          "output_type": "display_data",
          "data": {
            "image/png": "[encoded data removed]",
            "text/plain": [
              "<Figure size 432x288 with 1 Axes>"
            ]
          },
          "metadata": {
            "tags": [],
            "needs_background": "light"
          }
        }
      ]
    },
    {
      "cell_type": "code",
      "metadata": {
        "id": "M06-tvpn_dnk",
        "colab_type": "code",
        "colab": {
          "base_uri": "https://localhost:8080/",
          "height": 34
        },
        "outputId": "7b5cfb7f-957f-47c4-b063-f63cdf102f71"
      },
      "source": [
        "from sklearn.metrics import mean_squared_error\n",
        "from math import sqrt\n",
        "\n",
        "rmse_mlp = sqrt(mean_squared_error(Y_test, test_predictions_mlp))\n",
        "print(\"RMSE MLP : \", rmse_mlp)"
      ],
      "execution_count": 273,
      "outputs": [
        {
          "output_type": "stream",
          "text": [
            "RMSE MLP :  1.9047030073173188\n"
          ],
          "name": "stdout"
        }
      ]
    },
    {
      "cell_type": "markdown",
      "metadata": {
        "id": "kYaIz87avS69",
        "colab_type": "text"
      },
      "source": [
        "CNN"
      ]
    },
    {
      "cell_type": "code",
      "metadata": {
        "id": "8dZ3f_xHvef9",
        "colab_type": "code",
        "colab": {
          "base_uri": "https://localhost:8080/",
          "height": 279
        },
        "outputId": "27158a0f-08b2-45fa-ea82-7453249f0868"
      },
      "source": [
        "plt.plot(epochs_series, cnn_history.history['loss'], label='train_mse')\n",
        "plt.plot(epochs_series, cnn_history.history['val_loss'], label='val_mse')\n",
        "plt.xlabel('Epochs')\n",
        "plt.xlabel('MSE')\n",
        "plt.legend()\n",
        "plt.show()"
      ],
      "execution_count": 260,
      "outputs": [
        {
          "output_type": "display_data",
          "data": {
            "image/png": "[encoded data removed]",
            "text/plain": [
              "<Figure size 432x288 with 1 Axes>"
            ]
          },
          "metadata": {
            "tags": [],
            "needs_background": "light"
          }
        }
      ]
    },
    {
      "cell_type": "code",
      "metadata": {
        "id": "9eeP6BzY-EtD",
        "colab_type": "code",
        "colab": {}
      },
      "source": [
        "X_test_series = X_test.values.reshape((X_test.shape[0], X_test.shape[1], 1))\n",
        "test_predictions_cnn = model_cnn.predict(X_test_series)"
      ],
      "execution_count": 0,
      "outputs": []
    },
    {
      "cell_type": "code",
      "metadata": {
        "id": "CXQtiS__-bE7",
        "colab_type": "code",
        "colab": {
          "base_uri": "https://localhost:8080/",
          "height": 279
        },
        "outputId": "be57fbcc-c314-4f25-e928-710cbed1c8af"
      },
      "source": [
        "plt.plot(dates_test, Y_test, label='real data')\n",
        "plt.plot(dates_test, test_predictions_cnn, label='prediction')\n",
        "plt.xlabel('date')\n",
        "plt.xlabel('temperature')\n",
        "plt.legend()\n",
        "plt.show()"
      ],
      "execution_count": 264,
      "outputs": [
        {
          "output_type": "display_data",
          "data": {
            "image/png": "[encoded data removed]",
            "text/plain": [
              "<Figure size 432x288 with 1 Axes>"
            ]
          },
          "metadata": {
            "tags": [],
            "needs_background": "light"
          }
        }
      ]
    },
    {
      "cell_type": "code",
      "metadata": {
        "id": "5ROE8gu__uzX",
        "colab_type": "code",
        "colab": {
          "base_uri": "https://localhost:8080/",
          "height": 34
        },
        "outputId": "d5abce09-b266-46c6-a546-25b105cb7bfa"
      },
      "source": [
        "rmse_cnn = sqrt(mean_squared_error(Y_test, test_predictions_cnn))\n",
        "print(\"RMSE CNN : \", rmse_cnn)"
      ],
      "execution_count": 274,
      "outputs": [
        {
          "output_type": "stream",
          "text": [
            "RMSE CNN :  1.5430968836515526\n"
          ],
          "name": "stdout"
        }
      ]
    },
    {
      "cell_type": "markdown",
      "metadata": {
        "id": "Mz56ob5_vSt0",
        "colab_type": "text"
      },
      "source": [
        "LSTM"
      ]
    },
    {
      "cell_type": "code",
      "metadata": {
        "id": "rHU6TQrkvexO",
        "colab_type": "code",
        "colab": {
          "base_uri": "https://localhost:8080/",
          "height": 279
        },
        "outputId": "ac7bb34a-a283-4d06-ba0f-782a031c7540"
      },
      "source": [
        "plt.plot(epochs_series, lstm_history.history['loss'], label='train_mse')\n",
        "plt.plot(epochs_series, lstm_history.history['val_loss'], label='val_mse')\n",
        "plt.xlabel('Epochs')\n",
        "plt.xlabel('MSE')\n",
        "plt.legend()\n",
        "plt.show()"
      ],
      "execution_count": 265,
      "outputs": [
        {
          "output_type": "display_data",
          "data": {
            "image/png": "[encoded data removed]",
            "text/plain": [
              "<Figure size 432x288 with 1 Axes>"
            ]
          },
          "metadata": {
            "tags": [],
            "needs_background": "light"
          }
        }
      ]
    },
    {
      "cell_type": "code",
      "metadata": {
        "id": "leFdtHJZ-Fq9",
        "colab_type": "code",
        "colab": {}
      },
      "source": [
        "test_predictions_lstm = model_lstm.predict(X_test_series)"
      ],
      "execution_count": 0,
      "outputs": []
    },
    {
      "cell_type": "code",
      "metadata": {
        "id": "L6dzTp_5-c6I",
        "colab_type": "code",
        "colab": {
          "base_uri": "https://localhost:8080/",
          "height": 279
        },
        "outputId": "5bd16dbe-3c73-4116-e848-3315832dfdcf"
      },
      "source": [
        "plt.plot(dates_test, Y_test, label='real data')\n",
        "plt.plot(dates_test, test_predictions_lstm, label='prediction')\n",
        "plt.xlabel('date')\n",
        "plt.xlabel('temperature')\n",
        "plt.legend()\n",
        "plt.show()"
      ],
      "execution_count": 267,
      "outputs": [
        {
          "output_type": "display_data",
          "data": {
            "image/png": "[encoded data removed]",
            "text/plain": [
              "<Figure size 432x288 with 1 Axes>"
            ]
          },
          "metadata": {
            "tags": [],
            "needs_background": "light"
          }
        }
      ]
    },
    {
      "cell_type": "code",
      "metadata": {
        "id": "fm8plbdP_8aQ",
        "colab_type": "code",
        "colab": {
          "base_uri": "https://localhost:8080/",
          "height": 34
        },
        "outputId": "5a4dc0c2-9484-48a1-b4d1-16306a936f3d"
      },
      "source": [
        "rmse_lstm = sqrt(mean_squared_error(Y_test, test_predictions_lstm))\n",
        "print(\"RMSE LSTM : \", rmse_lstm)"
      ],
      "execution_count": 275,
      "outputs": [
        {
          "output_type": "stream",
          "text": [
            "RMSE LSTM :  0.9038598309831148\n"
          ],
          "name": "stdout"
        }
      ]
    },
    {
      "cell_type": "markdown",
      "metadata": {
        "id": "TEDsrIjrvSbF",
        "colab_type": "text"
      },
      "source": [
        "CNN-LSTM"
      ]
    },
    {
      "cell_type": "code",
      "metadata": {
        "id": "oBg1hgYmvfD7",
        "colab_type": "code",
        "colab": {
          "base_uri": "https://localhost:8080/",
          "height": 279
        },
        "outputId": "16477b4e-8437-454f-b7e8-6386f7408fd7"
      },
      "source": [
        "plt.plot(epochs_series, cnn_lstm_history.history['loss'], label='train_mse')\n",
        "plt.plot(epochs_series, cnn_lstm_history.history['val_loss'], label='val_mse')\n",
        "plt.xlabel('Epochs')\n",
        "plt.xlabel('MSE')\n",
        "plt.legend()\n",
        "plt.show()"
      ],
      "execution_count": 270,
      "outputs": [
        {
          "output_type": "display_data",
          "data": {
            "image/png": "[encoded data removed]",
            "text/plain": [
              "<Figure size 432x288 with 1 Axes>"
            ]
          },
          "metadata": {
            "tags": [],
            "needs_background": "light"
          }
        }
      ]
    },
    {
      "cell_type": "code",
      "metadata": {
        "id": "S0H2jccN-Gey",
        "colab_type": "code",
        "colab": {}
      },
      "source": [
        "subsequences = 2\n",
        "timesteps = X_test_series.shape[1]//subsequences\n",
        "X_test_series_sub = X_test_series.reshape((X_test_series.shape[0], subsequences, timesteps, 1))\n",
        "test_predictions_cnn_lstm = model_cnn_lstm.predict(X_test_series_sub)"
      ],
      "execution_count": 0,
      "outputs": []
    },
    {
      "cell_type": "code",
      "metadata": {
        "id": "sxyOhktz-e_f",
        "colab_type": "code",
        "colab": {
          "base_uri": "https://localhost:8080/",
          "height": 279
        },
        "outputId": "554483c1-421b-47ee-e472-afc8e7dcc2fd"
      },
      "source": [
        "plt.plot(dates_test, Y_test, label='real data')\n",
        "plt.plot(dates_test, test_predictions_cnn_lstm, label='prediction')\n",
        "plt.xlabel('date')\n",
        "plt.xlabel('temperature')\n",
        "plt.legend()\n",
        "plt.show()"
      ],
      "execution_count": 269,
      "outputs": [
        {
          "output_type": "display_data",
          "data": {
            "image/png": "[encoded data removed]",
            "text/plain": [
              "<Figure size 432x288 with 1 Axes>"
            ]
          },
          "metadata": {
            "tags": [],
            "needs_background": "light"
          }
        }
      ]
    },
    {
      "cell_type": "code",
      "metadata": {
        "id": "cngk3PbuAEyy",
        "colab_type": "code",
        "colab": {
          "base_uri": "https://localhost:8080/",
          "height": 34
        },
        "outputId": "87562417-c8c3-41a4-d48b-5aae5799d199"
      },
      "source": [
        "rmse_cnn_lstm = sqrt(mean_squared_error(Y_test, test_predictions_cnn_lstm))\n",
        "print(\"RMSE CNN-LSTM : \", rmse_cnn_lstm)"
      ],
      "execution_count": 276,
      "outputs": [
        {
          "output_type": "stream",
          "text": [
            "RMSE CNN-LSTM :  0.8263093884006969\n"
          ],
          "name": "stdout"
        }
      ]
    },
    {
      "cell_type": "markdown",
      "metadata": {
        "id": "uig6Ep8XASfh",
        "colab_type": "text"
      },
      "source": [
        "**CONCLUSION**"
      ]
    },
    {
      "cell_type": "markdown",
      "metadata": {
        "id": "xZkHTSV7AVNZ",
        "colab_type": "text"
      },
      "source": [
        "We implemented several Deep Learning methods for times series forecasting. We discussed the different strengths of each type of model and saw that the results were following our expectations.\n",
        "Nevertheless, these models are really basic and need to be adapted to the different kinds of problems available.  "
      ]
    }
  ]
}
